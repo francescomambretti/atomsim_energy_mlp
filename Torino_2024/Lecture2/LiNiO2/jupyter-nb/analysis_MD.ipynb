{
 "cells": [
  {
   "cell_type": "code",
   "execution_count": 1,
   "id": "d967eab8-d856-48f7-9d6e-6d3b2e5a2cc8",
   "metadata": {
    "tags": []
   },
   "outputs": [],
   "source": [
    "import numpy as np\n",
    "import matplotlib as mpl\n",
    "import matplotlib.pyplot as plt\n",
    "import os\n",
    "from ovito.io import import_file, export_file\n",
    "from ovito.modifiers import CoordinationAnalysisModifier, TimeAveragingModifier, SelectTypeModifier"
   ]
  },
  {
   "cell_type": "code",
   "execution_count": 2,
   "id": "cc1f7d64-283c-4705-a2ca-0daa39ed0083",
   "metadata": {
    "tags": []
   },
   "outputs": [],
   "source": [
    "Temps=(50,100,200,400,600,800)\n",
    "colors = mpl.colormaps.get_cmap('viridis').resampled(6).colors\n",
    "nbins=200\n",
    "rcut=4"
   ]
  },
  {
   "cell_type": "markdown",
   "id": "f7816261-a1a4-476e-973e-fe4a2fe23eb3",
   "metadata": {},
   "source": [
    "### Use Ovito for doing time-averaged rdf calculation"
   ]
  },
  {
   "cell_type": "code",
   "execution_count": 4,
   "id": "5a70d034",
   "metadata": {},
   "outputs": [
    {
     "name": "stdout",
     "output_type": "stream",
     "text": [
      "Number of MD frames: 10004\n"
     ]
    },
    {
     "ename": "FileNotFoundError",
     "evalue": "[Errno 2] No such file or directory: 'T_scan/50/rdf_Ni_O.txt'",
     "output_type": "error",
     "traceback": [
      "\u001b[0;31m---------------------------------------------------------------------------\u001b[0m",
      "\u001b[0;31mFileNotFoundError\u001b[0m                         Traceback (most recent call last)",
      "Cell \u001b[0;32mIn[4], line 23\u001b[0m\n\u001b[1;32m     21\u001b[0m     rdf_ovito \u001b[38;5;241m=\u001b[39m pipeline\u001b[38;5;241m.\u001b[39mcompute()\u001b[38;5;241m.\u001b[39mtables[\u001b[38;5;124m'\u001b[39m\u001b[38;5;124mcoordination-rdf[average]\u001b[39m\u001b[38;5;124m'\u001b[39m]\u001b[38;5;241m.\u001b[39mxy()\n\u001b[1;32m     22\u001b[0m     file_out\u001b[38;5;241m=\u001b[39m\u001b[38;5;124m\"\u001b[39m\u001b[38;5;124mT_scan/\u001b[39m\u001b[38;5;124m\"\u001b[39m\u001b[38;5;241m+\u001b[39m\u001b[38;5;28mstr\u001b[39m(T)\u001b[38;5;241m+\u001b[39m\u001b[38;5;124m\"\u001b[39m\u001b[38;5;124m/rdf_Ni_O.txt\u001b[39m\u001b[38;5;124m\"\u001b[39m\n\u001b[0;32m---> 23\u001b[0m     \u001b[43mnp\u001b[49m\u001b[38;5;241;43m.\u001b[39;49m\u001b[43msavetxt\u001b[49m\u001b[43m(\u001b[49m\u001b[43mfile_out\u001b[49m\u001b[43m,\u001b[49m\u001b[43mrdf_ovito\u001b[49m\u001b[43m)\u001b[49m\n\u001b[1;32m     24\u001b[0m     \u001b[38;5;66;03m#r=np.linspace(0,rcut,nbins)\u001b[39;00m\n\u001b[1;32m     25\u001b[0m     \u001b[38;5;66;03m#rdf=np.loadtxt(file_out,usecols=(1,),unpack=True)\u001b[39;00m\n\u001b[1;32m     26\u001b[0m     \u001b[38;5;66;03m#plt.plot(r,rdf,marker='o',linestyle='none',color=color)\u001b[39;00m\n\u001b[0;32m   (...)\u001b[0m\n\u001b[1;32m     30\u001b[0m \u001b[38;5;66;03m#plt.legend()\u001b[39;00m\n\u001b[1;32m     31\u001b[0m \u001b[38;5;66;03m#plt.show()\u001b[39;00m\n",
      "File \u001b[0;32m~/miniforge3/envs/md_pp/lib/python3.10/site-packages/numpy/lib/npyio.py:1556\u001b[0m, in \u001b[0;36msavetxt\u001b[0;34m(fname, X, fmt, delimiter, newline, header, footer, comments, encoding)\u001b[0m\n\u001b[1;32m   1553\u001b[0m     fname \u001b[38;5;241m=\u001b[39m os_fspath(fname)\n\u001b[1;32m   1554\u001b[0m \u001b[38;5;28;01mif\u001b[39;00m _is_string_like(fname):\n\u001b[1;32m   1555\u001b[0m     \u001b[38;5;66;03m# datasource doesn't support creating a new file ...\u001b[39;00m\n\u001b[0;32m-> 1556\u001b[0m     \u001b[38;5;28;43mopen\u001b[39;49m\u001b[43m(\u001b[49m\u001b[43mfname\u001b[49m\u001b[43m,\u001b[49m\u001b[43m \u001b[49m\u001b[38;5;124;43m'\u001b[39;49m\u001b[38;5;124;43mwt\u001b[39;49m\u001b[38;5;124;43m'\u001b[39;49m\u001b[43m)\u001b[49m\u001b[38;5;241m.\u001b[39mclose()\n\u001b[1;32m   1557\u001b[0m     fh \u001b[38;5;241m=\u001b[39m np\u001b[38;5;241m.\u001b[39mlib\u001b[38;5;241m.\u001b[39m_datasource\u001b[38;5;241m.\u001b[39mopen(fname, \u001b[38;5;124m'\u001b[39m\u001b[38;5;124mwt\u001b[39m\u001b[38;5;124m'\u001b[39m, encoding\u001b[38;5;241m=\u001b[39mencoding)\n\u001b[1;32m   1558\u001b[0m     own_fh \u001b[38;5;241m=\u001b[39m \u001b[38;5;28;01mTrue\u001b[39;00m\n",
      "\u001b[0;31mFileNotFoundError\u001b[0m: [Errno 2] No such file or directory: 'T_scan/50/rdf_Ni_O.txt'"
     ]
    }
   ],
   "source": [
    "for i, T in enumerate(Temps):\n",
    "    color=colors[i]\n",
    "    file=\"T_scan/\"+str(T)+\"K/dump.xyz\"\n",
    "    # Load a simulation trajectory consisting of several frames:\n",
    "    pipeline = import_file(file)\n",
    "    print(\"Number of MD frames:\", pipeline.source.num_frames)\n",
    "\n",
    "    # Select by type\n",
    "    pipeline.modifiers.append(SelectTypeModifier(\n",
    "        operate_on = \"particles\",\n",
    "        property = \"Particle Type\",\n",
    "        types = {2, 3} #Ni, O\n",
    "    ))      \n",
    "\n",
    "    # Insert the RDF calculation modifier into the pipeline:\n",
    "    pipeline.modifiers.append(CoordinationAnalysisModifier(cutoff = rcut, number_of_bins = nbins,only_selected=True))\n",
    "    # Insert the time-averaging modifier into the pipeline, which accumulates\n",
    "    # the instantaneous DataTable produced by the previous modifier and computes a mean histogram.\n",
    "    pipeline.modifiers.append(TimeAveragingModifier(operate_on='table:coordination-rdf'))\n",
    "    # Data export method 1: Convert to NumPy array and write data to a text file:\n",
    "    rdf_ovito = pipeline.compute().tables['coordination-rdf[average]'].xy()\n",
    "    file_out=\"T_scan/\"+str(T)+\"K/rdf_Ni_O.txt\"\n",
    "    np.savetxt(file_out,rdf_ovito)\n",
    "    #r=np.linspace(0,rcut,nbins)\n",
    "    #rdf=np.loadtxt(file_out,usecols=(1,),unpack=True)\n",
    "    #plt.plot(r,rdf,marker='o',linestyle='none',color=color)\n",
    "#plt.xlabel(\"r $[\\AA]$\",fontsize=14)\n",
    "#plt.ylabel(\"g(r)\",fontsize=14)\n",
    "#plt.xlim(1,4)\n",
    "#plt.legend()\n",
    "#plt.show()"
   ]
  },
  {
   "cell_type": "code",
   "execution_count": null,
   "id": "88d1495a",
   "metadata": {},
   "outputs": [],
   "source": []
  }
 ],
 "metadata": {
  "kernelspec": {
   "display_name": "Python 3.10.12 (ipykernel)",
   "language": "python",
   "name": "python3"
  },
  "language_info": {
   "codemirror_mode": {
    "name": "ipython",
    "version": 3
   },
   "file_extension": ".py",
   "mimetype": "text/x-python",
   "name": "python",
   "nbconvert_exporter": "python",
   "pygments_lexer": "ipython3",
   "version": "3.10.14"
  }
 },
 "nbformat": 4,
 "nbformat_minor": 5
}
